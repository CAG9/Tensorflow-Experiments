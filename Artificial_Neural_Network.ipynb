{
  "nbformat": 4,
  "nbformat_minor": 0,
  "metadata": {
    "colab": {
      "name": "Copia de Artificial Neural Network",
      "provenance": [],
      "collapsed_sections": [],
      "toc_visible": true
    },
    "kernelspec": {
      "name": "python3",
      "display_name": "Python 3"
    }
  },
  "cells": [
    {
      "cell_type": "markdown",
      "metadata": {
        "id": "3cbb7fRy-eyr"
      },
      "source": [
        "# Artificial Neural Network"
      ]
    },
    {
      "cell_type": "markdown",
      "metadata": {
        "id": "8sNDnxE2-pwE"
      },
      "source": [
        "### Importing the libraries"
      ]
    },
    {
      "cell_type": "code",
      "metadata": {
        "id": "lxChR1Rk-umf"
      },
      "source": [
        "import numpy as np\n",
        "import pandas as pd\n",
        "import tensorflow as tf\n",
        "from sklearn.model_selection import train_test_split"
      ],
      "execution_count": null,
      "outputs": []
    },
    {
      "cell_type": "code",
      "metadata": {
        "id": "uBTqR3nacj0e",
        "colab": {
          "base_uri": "https://localhost:8080/",
          "height": 34
        },
        "outputId": "84e030bc-ad31-40b3-d5cd-b0a453b2a3ac"
      },
      "source": [
        "tf.__version__"
      ],
      "execution_count": null,
      "outputs": [
        {
          "output_type": "execute_result",
          "data": {
            "text/plain": [
              "'2.2.0'"
            ]
          },
          "metadata": {
            "tags": []
          },
          "execution_count": 2
        }
      ]
    },
    {
      "cell_type": "markdown",
      "metadata": {
        "id": "AG3FQEch-yuA"
      },
      "source": [
        "## Part 1 - Data Preprocessing"
      ]
    },
    {
      "cell_type": "markdown",
      "metadata": {
        "id": "-4zq8Mza_D9O"
      },
      "source": [
        "### Importing the dataset"
      ]
    },
    {
      "cell_type": "code",
      "metadata": {
        "id": "MzSs5gBxNK3M"
      },
      "source": [
        "dataset = pd.read_excel('Folds5x2_pp.xlsx')\n",
        "x = dataset.iloc[: ,: -1].values\n",
        "y = dataset.iloc[: , -1].values"
      ],
      "execution_count": null,
      "outputs": []
    },
    {
      "cell_type": "code",
      "metadata": {
        "id": "bbb8ovoJOaXt",
        "colab": {
          "base_uri": "https://localhost:8080/",
          "height": 153
        },
        "outputId": "f7bbd2be-8610-488e-cd78-19d299f8ac06"
      },
      "source": [
        "print(x)\n",
        "print(y)"
      ],
      "execution_count": null,
      "outputs": [
        {
          "output_type": "stream",
          "text": [
            "[[  14.96   41.76 1024.07   73.17]\n",
            " [  25.18   62.96 1020.04   59.08]\n",
            " [   5.11   39.4  1012.16   92.14]\n",
            " ...\n",
            " [  31.32   74.33 1012.92   36.48]\n",
            " [  24.48   69.45 1013.86   62.39]\n",
            " [  21.6    62.52 1017.23   67.87]]\n",
            "[463.26 444.37 488.56 ... 429.57 435.74 453.28]\n"
          ],
          "name": "stdout"
        }
      ]
    },
    {
      "cell_type": "markdown",
      "metadata": {
        "id": "VC6omXel_Up0"
      },
      "source": [
        "### Splitting the dataset into the Training set and Test set"
      ]
    },
    {
      "cell_type": "code",
      "metadata": {
        "id": "lCJnIba9Ohi6"
      },
      "source": [
        "X_train, X_test , y_train, y_test = train_test_split(x, y, test_size = 0.2, random_state = 0 )"
      ],
      "execution_count": null,
      "outputs": []
    },
    {
      "cell_type": "markdown",
      "metadata": {
        "id": "_mSLlAT9_eyI"
      },
      "source": [
        "## Part 2 - Building the ANN"
      ]
    },
    {
      "cell_type": "markdown",
      "metadata": {
        "id": "CsBULd_f_wLY"
      },
      "source": [
        "### Initializing the ANN"
      ]
    },
    {
      "cell_type": "code",
      "metadata": {
        "id": "A3onRTk-kpHi"
      },
      "source": [
        "ann = tf.keras.models.Sequential()"
      ],
      "execution_count": null,
      "outputs": []
    },
    {
      "cell_type": "markdown",
      "metadata": {
        "id": "iitAFJS_ABUn"
      },
      "source": [
        "### Adding the input layer and the first hidden layer"
      ]
    },
    {
      "cell_type": "code",
      "metadata": {
        "id": "ROj8KRdRmgp2"
      },
      "source": [
        "ann.add(tf.keras.layers.Dense(units = 6, activation = 'relu'))"
      ],
      "execution_count": null,
      "outputs": []
    },
    {
      "cell_type": "markdown",
      "metadata": {
        "id": "-lb4kK_wAKbs"
      },
      "source": [
        "### Adding the second hidden layer"
      ]
    },
    {
      "cell_type": "code",
      "metadata": {
        "id": "nls02UpPntbs"
      },
      "source": [
        "ann.add(tf.keras.layers.Dense(units = 6, activation = 'relu'))"
      ],
      "execution_count": null,
      "outputs": []
    },
    {
      "cell_type": "markdown",
      "metadata": {
        "id": "jwMOmKb3AdBY"
      },
      "source": [
        "### Adding the output layer"
      ]
    },
    {
      "cell_type": "code",
      "metadata": {
        "id": "w6GQ2PJLoHL3"
      },
      "source": [
        "ann.add(tf.keras.layers.Dense(units = 1))"
      ],
      "execution_count": null,
      "outputs": []
    },
    {
      "cell_type": "markdown",
      "metadata": {
        "id": "fq7e4fF6A1yy"
      },
      "source": [
        "## Part 3 - Training the ANN"
      ]
    },
    {
      "cell_type": "markdown",
      "metadata": {
        "id": "qDeylAs2An25"
      },
      "source": [
        "### Compiling the ANN"
      ]
    },
    {
      "cell_type": "code",
      "metadata": {
        "id": "UoMOtyMLo5b8"
      },
      "source": [
        "ann.compile(optimizer = 'adam', loss = 'mean_squared_error')"
      ],
      "execution_count": null,
      "outputs": []
    },
    {
      "cell_type": "markdown",
      "metadata": {
        "id": "YjVuiybYOo7r"
      },
      "source": [
        "### Training the ANN model on the Training set"
      ]
    },
    {
      "cell_type": "code",
      "metadata": {
        "id": "BMYfY4Lbo6gZ",
        "colab": {
          "base_uri": "https://localhost:8080/",
          "height": 1000
        },
        "outputId": "af7e6e7d-061a-49b6-adfb-20602cafcd02"
      },
      "source": [
        "ann.fit(X_train, y_train, batch_size = 32, epochs = 100)"
      ],
      "execution_count": null,
      "outputs": [
        {
          "output_type": "stream",
          "text": [
            "Epoch 1/100\n",
            "240/240 [==============================] - 0s 1ms/step - loss: 24.4100\n",
            "Epoch 2/100\n",
            "240/240 [==============================] - 0s 1ms/step - loss: 23.8318\n",
            "Epoch 3/100\n",
            "240/240 [==============================] - 0s 1ms/step - loss: 24.4300\n",
            "Epoch 4/100\n",
            "240/240 [==============================] - 0s 1ms/step - loss: 24.8972\n",
            "Epoch 5/100\n",
            "240/240 [==============================] - 0s 1ms/step - loss: 25.2223\n",
            "Epoch 6/100\n",
            "240/240 [==============================] - 0s 1ms/step - loss: 24.3890\n",
            "Epoch 7/100\n",
            "240/240 [==============================] - 0s 1ms/step - loss: 24.1355\n",
            "Epoch 8/100\n",
            "240/240 [==============================] - 0s 1ms/step - loss: 23.9856\n",
            "Epoch 9/100\n",
            "240/240 [==============================] - 0s 1ms/step - loss: 23.9470\n",
            "Epoch 10/100\n",
            "240/240 [==============================] - 0s 1ms/step - loss: 24.1437\n",
            "Epoch 11/100\n",
            "240/240 [==============================] - 0s 1ms/step - loss: 24.0689\n",
            "Epoch 12/100\n",
            "240/240 [==============================] - 0s 1ms/step - loss: 24.9123\n",
            "Epoch 13/100\n",
            "240/240 [==============================] - 0s 1ms/step - loss: 24.4020\n",
            "Epoch 14/100\n",
            "240/240 [==============================] - 0s 1ms/step - loss: 24.0964\n",
            "Epoch 15/100\n",
            "240/240 [==============================] - 0s 1ms/step - loss: 25.0198\n",
            "Epoch 16/100\n",
            "240/240 [==============================] - 0s 1ms/step - loss: 24.4588\n",
            "Epoch 17/100\n",
            "240/240 [==============================] - 0s 1ms/step - loss: 24.1566\n",
            "Epoch 18/100\n",
            "240/240 [==============================] - 0s 1ms/step - loss: 24.6312\n",
            "Epoch 19/100\n",
            "240/240 [==============================] - 0s 1ms/step - loss: 24.6821\n",
            "Epoch 20/100\n",
            "240/240 [==============================] - 0s 1ms/step - loss: 24.3488\n",
            "Epoch 21/100\n",
            "240/240 [==============================] - 0s 1ms/step - loss: 24.4744\n",
            "Epoch 22/100\n",
            "240/240 [==============================] - 0s 1ms/step - loss: 24.4223\n",
            "Epoch 23/100\n",
            "240/240 [==============================] - 0s 1ms/step - loss: 24.2831\n",
            "Epoch 24/100\n",
            "240/240 [==============================] - 0s 1ms/step - loss: 24.5376\n",
            "Epoch 25/100\n",
            "240/240 [==============================] - 0s 1ms/step - loss: 24.8432\n",
            "Epoch 26/100\n",
            "240/240 [==============================] - 0s 1ms/step - loss: 24.3502\n",
            "Epoch 27/100\n",
            "240/240 [==============================] - 0s 1ms/step - loss: 24.4308\n",
            "Epoch 28/100\n",
            "240/240 [==============================] - 0s 1ms/step - loss: 24.1829\n",
            "Epoch 29/100\n",
            "240/240 [==============================] - 0s 1ms/step - loss: 24.7817\n",
            "Epoch 30/100\n",
            "240/240 [==============================] - 0s 1ms/step - loss: 25.1040\n",
            "Epoch 31/100\n",
            "240/240 [==============================] - 0s 1ms/step - loss: 25.1744\n",
            "Epoch 32/100\n",
            "240/240 [==============================] - 0s 1ms/step - loss: 23.9816\n",
            "Epoch 33/100\n",
            "240/240 [==============================] - 0s 1ms/step - loss: 24.2696\n",
            "Epoch 34/100\n",
            "240/240 [==============================] - 0s 1ms/step - loss: 24.4506\n",
            "Epoch 35/100\n",
            "240/240 [==============================] - 0s 1ms/step - loss: 24.1705\n",
            "Epoch 36/100\n",
            "240/240 [==============================] - 0s 1ms/step - loss: 23.9477\n",
            "Epoch 37/100\n",
            "240/240 [==============================] - 0s 1ms/step - loss: 24.2223\n",
            "Epoch 38/100\n",
            "240/240 [==============================] - 0s 1ms/step - loss: 24.2182\n",
            "Epoch 39/100\n",
            "240/240 [==============================] - 0s 1ms/step - loss: 24.5194\n",
            "Epoch 40/100\n",
            "240/240 [==============================] - 0s 1ms/step - loss: 24.4924\n",
            "Epoch 41/100\n",
            "240/240 [==============================] - 0s 1ms/step - loss: 24.5287\n",
            "Epoch 42/100\n",
            "240/240 [==============================] - 0s 1ms/step - loss: 24.3198\n",
            "Epoch 43/100\n",
            "240/240 [==============================] - 0s 1ms/step - loss: 24.1673\n",
            "Epoch 44/100\n",
            "240/240 [==============================] - 0s 1ms/step - loss: 25.2847\n",
            "Epoch 45/100\n",
            "240/240 [==============================] - 0s 1ms/step - loss: 24.2806\n",
            "Epoch 46/100\n",
            "240/240 [==============================] - 0s 1ms/step - loss: 24.1847\n",
            "Epoch 47/100\n",
            "240/240 [==============================] - 0s 1ms/step - loss: 24.4426\n",
            "Epoch 48/100\n",
            "240/240 [==============================] - 0s 1ms/step - loss: 24.6045\n",
            "Epoch 49/100\n",
            "240/240 [==============================] - 0s 1ms/step - loss: 23.9692\n",
            "Epoch 50/100\n",
            "240/240 [==============================] - 0s 1ms/step - loss: 24.2493\n",
            "Epoch 51/100\n",
            "240/240 [==============================] - 0s 1ms/step - loss: 24.5421\n",
            "Epoch 52/100\n",
            "240/240 [==============================] - 0s 1ms/step - loss: 24.3192\n",
            "Epoch 53/100\n",
            "240/240 [==============================] - 0s 1ms/step - loss: 24.4099\n",
            "Epoch 54/100\n",
            "240/240 [==============================] - 0s 1ms/step - loss: 24.1305\n",
            "Epoch 55/100\n",
            "240/240 [==============================] - 0s 1ms/step - loss: 24.6694\n",
            "Epoch 56/100\n",
            "240/240 [==============================] - 0s 1ms/step - loss: 24.6358\n",
            "Epoch 57/100\n",
            "240/240 [==============================] - 0s 1ms/step - loss: 24.7181\n",
            "Epoch 58/100\n",
            "240/240 [==============================] - 0s 1ms/step - loss: 24.3434\n",
            "Epoch 59/100\n",
            "240/240 [==============================] - 0s 1ms/step - loss: 24.1299\n",
            "Epoch 60/100\n",
            "240/240 [==============================] - 0s 1ms/step - loss: 24.2957\n",
            "Epoch 61/100\n",
            "240/240 [==============================] - 0s 1ms/step - loss: 24.5500\n",
            "Epoch 62/100\n",
            "240/240 [==============================] - 0s 1ms/step - loss: 24.4452\n",
            "Epoch 63/100\n",
            "240/240 [==============================] - 0s 1ms/step - loss: 24.2541\n",
            "Epoch 64/100\n",
            "240/240 [==============================] - 0s 1ms/step - loss: 24.3520\n",
            "Epoch 65/100\n",
            "240/240 [==============================] - 0s 1ms/step - loss: 23.8597\n",
            "Epoch 66/100\n",
            "240/240 [==============================] - 0s 1ms/step - loss: 24.4886\n",
            "Epoch 67/100\n",
            "240/240 [==============================] - 0s 1ms/step - loss: 24.3300\n",
            "Epoch 68/100\n",
            "240/240 [==============================] - 0s 1ms/step - loss: 24.2543\n",
            "Epoch 69/100\n",
            "240/240 [==============================] - 0s 1ms/step - loss: 24.3847\n",
            "Epoch 70/100\n",
            "240/240 [==============================] - 0s 1ms/step - loss: 24.7667\n",
            "Epoch 71/100\n",
            "240/240 [==============================] - 0s 1ms/step - loss: 24.3271\n",
            "Epoch 72/100\n",
            "240/240 [==============================] - 0s 1ms/step - loss: 24.3372\n",
            "Epoch 73/100\n",
            "240/240 [==============================] - 0s 1ms/step - loss: 24.3008\n",
            "Epoch 74/100\n",
            "240/240 [==============================] - 0s 1ms/step - loss: 24.5736\n",
            "Epoch 75/100\n",
            "240/240 [==============================] - 0s 1ms/step - loss: 24.2594\n",
            "Epoch 76/100\n",
            "240/240 [==============================] - 0s 1ms/step - loss: 24.2184\n",
            "Epoch 77/100\n",
            "240/240 [==============================] - 0s 1ms/step - loss: 23.9723\n",
            "Epoch 78/100\n",
            "240/240 [==============================] - 0s 1ms/step - loss: 24.5811\n",
            "Epoch 79/100\n",
            "240/240 [==============================] - 0s 1ms/step - loss: 25.3422\n",
            "Epoch 80/100\n",
            "240/240 [==============================] - 0s 1ms/step - loss: 24.5014\n",
            "Epoch 81/100\n",
            "240/240 [==============================] - 0s 1ms/step - loss: 23.7905\n",
            "Epoch 82/100\n",
            "240/240 [==============================] - 0s 1ms/step - loss: 24.7892\n",
            "Epoch 83/100\n",
            "240/240 [==============================] - 0s 1ms/step - loss: 24.3931\n",
            "Epoch 84/100\n",
            "240/240 [==============================] - 0s 1ms/step - loss: 24.5762\n",
            "Epoch 85/100\n",
            "240/240 [==============================] - 0s 1ms/step - loss: 24.0497\n",
            "Epoch 86/100\n",
            "240/240 [==============================] - 0s 1ms/step - loss: 24.1774\n",
            "Epoch 87/100\n",
            "240/240 [==============================] - 0s 1ms/step - loss: 23.6150\n",
            "Epoch 88/100\n",
            "240/240 [==============================] - 0s 1ms/step - loss: 24.3905\n",
            "Epoch 89/100\n",
            "240/240 [==============================] - 0s 1ms/step - loss: 24.4403\n",
            "Epoch 90/100\n",
            "240/240 [==============================] - 0s 998us/step - loss: 24.4501\n",
            "Epoch 91/100\n",
            "240/240 [==============================] - 0s 1ms/step - loss: 24.4206\n",
            "Epoch 92/100\n",
            "240/240 [==============================] - 0s 1ms/step - loss: 24.7917\n",
            "Epoch 93/100\n",
            "240/240 [==============================] - 0s 1ms/step - loss: 24.3490\n",
            "Epoch 94/100\n",
            "240/240 [==============================] - 0s 1ms/step - loss: 24.0613\n",
            "Epoch 95/100\n",
            "240/240 [==============================] - 0s 1ms/step - loss: 24.3853\n",
            "Epoch 96/100\n",
            "240/240 [==============================] - 0s 1ms/step - loss: 24.1893\n",
            "Epoch 97/100\n",
            "240/240 [==============================] - 0s 1ms/step - loss: 23.9545\n",
            "Epoch 98/100\n",
            "240/240 [==============================] - 0s 1ms/step - loss: 24.6097\n",
            "Epoch 99/100\n",
            "240/240 [==============================] - 0s 1ms/step - loss: 24.0539\n",
            "Epoch 100/100\n",
            "240/240 [==============================] - 0s 1ms/step - loss: 24.2448\n"
          ],
          "name": "stdout"
        },
        {
          "output_type": "execute_result",
          "data": {
            "text/plain": [
              "<tensorflow.python.keras.callbacks.History at 0x7fa5831170b8>"
            ]
          },
          "metadata": {
            "tags": []
          },
          "execution_count": 17
        }
      ]
    },
    {
      "cell_type": "markdown",
      "metadata": {
        "id": "0H0zKKNEBLD5"
      },
      "source": [
        "### Predicting the results of the Test set"
      ]
    },
    {
      "cell_type": "code",
      "metadata": {
        "id": "NkTsTQ2Po7OU",
        "colab": {
          "base_uri": "https://localhost:8080/",
          "height": 136
        },
        "outputId": "ed185cb8-e6d6-477e-9693-a42135ee6f68"
      },
      "source": [
        "y_pred = ann.predict(X_test)\n",
        "np.set_printoptions(precision = 2)\n",
        "print(np.concatenate(( y_pred.reshape(len(y_pred),1), y_test.reshape(len(y_test),1)), 1))\n",
        "\n"
      ],
      "execution_count": null,
      "outputs": [
        {
          "output_type": "stream",
          "text": [
            "[[432.45 431.23]\n",
            " [460.75 460.01]\n",
            " [466.67 461.14]\n",
            " ...\n",
            " [473.39 473.26]\n",
            " [440.51 438.  ]\n",
            " [457.46 463.28]]\n"
          ],
          "name": "stdout"
        }
      ]
    }
  ]
}